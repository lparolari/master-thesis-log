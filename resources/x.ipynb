{
 "cells": [
  {
   "cell_type": "code",
   "execution_count": 53,
   "source": [
    "x = \"\"\"\n",
    "n box,ub (%), ub no-bg (%),box removed (%)\n",
    "10,51.01,50.81,3.80\n",
    "20,70.49,68.97,15.02\n",
    "30,79.74,76.03,26.41\n",
    "40,84.21,78.76,34.52\n",
    "50,86.83,80.09,39.97\n",
    "60,88.47,80.97,43.72\n",
    "70,89.53,81.62,46.41\n",
    "80,90.34,82.17,48.42\n",
    "90,90.93,82.62,49.92\n",
    "100,91.38,82.99,51.09\n",
    "\"\"\"\n",
    "\n",
    "y = \"\"\"\n",
    "n box,ub (%), ub no-bg (%),box removed (%)\n",
    "10,53.94,53.90,1.24\n",
    "20,74.48,73.62,10.79\n",
    "30,83.26,80.82,22.43\n",
    "40,87.54,83.79,30.77\n",
    "50,89.82,85.30,36.27\n",
    "60,91.18,86.29,40.01\n",
    "70,92.05,86.97,42.73\n",
    "80,92.65,87.49,44.77\n",
    "90,93.10,87.93,46.35\n",
    "100,93.42,88.25,47.60\n",
    "\"\"\"\n",
    "\n",
    "# # pred \t427226\t427226\t0\t0\n",
    "# gt \t427226\t427226\t0\t0\n",
    "z = \"\"\"\n",
    " ,100bb,no-bg,variazione (%)\n",
    "mismatch totali ,399646,258958,-35.2\n",
    "mismatch top-10 ,287296,130327,-54.64\n",
    "mismatch background,153237,0,-100.0\n",
    "match (%),6.46,39.39,509.75\n",
    "\"\"\""
   ],
   "outputs": [],
   "metadata": {}
  },
  {
   "cell_type": "code",
   "execution_count": 54,
   "source": [
    "import pandas as pd"
   ],
   "outputs": [],
   "metadata": {}
  },
  {
   "cell_type": "code",
   "execution_count": 55,
   "source": [
    "from io import StringIO\n",
    "\n",
    "import pandas as pd\n",
    "\n",
    "TESTDATA = StringIO(z)\n",
    "\n",
    "df = pd.read_csv(TESTDATA)"
   ],
   "outputs": [],
   "metadata": {}
  },
  {
   "cell_type": "code",
   "execution_count": 56,
   "source": [
    "df.head(n=10)"
   ],
   "outputs": [
    {
     "output_type": "execute_result",
     "data": {
      "text/plain": [
       "                            100bb      no-bg  variazione (%)\n",
       "0     mismatch totali   399646.00  258958.00          -35.20\n",
       "1     mismatch top-10   287296.00  130327.00          -54.64\n",
       "2  mismatch background  153237.00       8.00          -99.99\n",
       "3            match (%)       6.46      39.39          509.75"
      ],
      "text/html": [
       "<div>\n",
       "<style scoped>\n",
       "    .dataframe tbody tr th:only-of-type {\n",
       "        vertical-align: middle;\n",
       "    }\n",
       "\n",
       "    .dataframe tbody tr th {\n",
       "        vertical-align: top;\n",
       "    }\n",
       "\n",
       "    .dataframe thead th {\n",
       "        text-align: right;\n",
       "    }\n",
       "</style>\n",
       "<table border=\"1\" class=\"dataframe\">\n",
       "  <thead>\n",
       "    <tr style=\"text-align: right;\">\n",
       "      <th></th>\n",
       "      <th></th>\n",
       "      <th>100bb</th>\n",
       "      <th>no-bg</th>\n",
       "      <th>variazione (%)</th>\n",
       "    </tr>\n",
       "  </thead>\n",
       "  <tbody>\n",
       "    <tr>\n",
       "      <th>0</th>\n",
       "      <td>mismatch totali</td>\n",
       "      <td>399646.00</td>\n",
       "      <td>258958.00</td>\n",
       "      <td>-35.20</td>\n",
       "    </tr>\n",
       "    <tr>\n",
       "      <th>1</th>\n",
       "      <td>mismatch top-10</td>\n",
       "      <td>287296.00</td>\n",
       "      <td>130327.00</td>\n",
       "      <td>-54.64</td>\n",
       "    </tr>\n",
       "    <tr>\n",
       "      <th>2</th>\n",
       "      <td>mismatch background</td>\n",
       "      <td>153237.00</td>\n",
       "      <td>8.00</td>\n",
       "      <td>-99.99</td>\n",
       "    </tr>\n",
       "    <tr>\n",
       "      <th>3</th>\n",
       "      <td>match (%)</td>\n",
       "      <td>6.46</td>\n",
       "      <td>39.39</td>\n",
       "      <td>509.75</td>\n",
       "    </tr>\n",
       "  </tbody>\n",
       "</table>\n",
       "</div>"
      ]
     },
     "metadata": {},
     "execution_count": 56
    }
   ],
   "metadata": {}
  },
  {
   "cell_type": "markdown",
   "source": [
    "---"
   ],
   "metadata": {}
  },
  {
   "cell_type": "code",
   "execution_count": 57,
   "source": [
    "| 10    | -2.033332  | 13.843936 | 42.587167   |\n",
    "| 20    | -4.050939  | 11.414152 | 43.723827   |\n",
    "| 30    | -6.086038  | 10.012118 | 43.835806   |\n",
    "| 40    | -8.083521  | 9.143900  | 43.883358   |\n",
    "| 50    | -10.110158 | 8.484300  | 43.932445   |\n",
    "| 60    | -12.157627 | 8.007240  | 43.976929   |\n",
    "| 70    | -14.156891 | 7.530181  | 43.986133   |\n",
    "| 80    | -16.188678 | 7.309291  | 44.044423   |\n",
    "| 90    | -18.204253 | 7.155896  | 44.047491   |\n",
    "| 100   | -20.258124 | 6.931938  | 44.045957   |"
   ],
   "outputs": [
    {
     "output_type": "error",
     "ename": "SyntaxError",
     "evalue": "invalid syntax (2916438446.py, line 1)",
     "traceback": [
      "\u001b[0;36m  File \u001b[0;32m\"/tmp/ipykernel_192914/2916438446.py\"\u001b[0;36m, line \u001b[0;32m1\u001b[0m\n\u001b[0;31m    | 10    | -2.033332  | 13.843936 | 42.587167   |\u001b[0m\n\u001b[0m    ^\u001b[0m\n\u001b[0;31mSyntaxError\u001b[0m\u001b[0;31m:\u001b[0m invalid syntax\n"
     ]
    }
   ],
   "metadata": {}
  }
 ],
 "metadata": {
  "orig_nbformat": 4,
  "language_info": {
   "name": "python",
   "version": "3.9.5",
   "mimetype": "text/x-python",
   "codemirror_mode": {
    "name": "ipython",
    "version": 3
   },
   "pygments_lexer": "ipython3",
   "nbconvert_exporter": "python",
   "file_extension": ".py"
  },
  "kernelspec": {
   "name": "python3",
   "display_name": "Python 3.9.5 64-bit ('vtg-tests': conda)"
  },
  "interpreter": {
   "hash": "7572f890aa19fd7a96aaf798d453954452764a03b339be10dc98bb222898ea61"
  }
 },
 "nbformat": 4,
 "nbformat_minor": 2
}